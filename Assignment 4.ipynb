{
 "cells": [
  {
   "cell_type": "code",
   "execution_count": 31,
   "metadata": {},
   "outputs": [],
   "source": [
    "import numpy as np\n",
    "from sklearn.preprocessing import StandardScaler\n",
    "import matplotlib.pyplot as plt\n",
    "from mlxtend.data import loadlocal_mnist\n",
    "from sklearn.metrics import accuracy_score\n",
    "from sklearn.metrics import classification_report, confusion_matrix\n"
   ]
  },
  {
   "cell_type": "code",
   "execution_count": 18,
   "metadata": {},
   "outputs": [],
   "source": [
    "X_train,Y_train=loadlocal_mnist(images_path='train-images.idx3-ubyte',labels_path='train-labels.idx1-ubyte')\n",
    "X_test,Y_test=loadlocal_mnist(images_path='t10k-images.idx3-ubyte',labels_path='t10k-labels.idx1-ubyte')\n"
   ]
  },
  {
   "cell_type": "markdown",
   "metadata": {},
   "source": [
    "# Data Pre-processing"
   ]
  },
  {
   "cell_type": "code",
   "execution_count": 3,
   "metadata": {},
   "outputs": [],
   "source": [
    "\n",
    "n_class=10\n",
    "def preprocessing():\n",
    "    \n",
    "    x_train =X_train- X_train/255\n",
    "    x_train = StandardScaler().fit_transform(x_train)\n",
    "    x_test =X_test-X_test/255\n",
    "    x_test = StandardScaler().fit_transform(x_test)\n",
    "    y_train = np.eye(n_class)[Y_train.astype('int32')]\n",
    "    y_train = y_train.T.reshape(n_class, len(Y_train))\n",
    "    y_test = np.eye(n_class)[Y_test.astype('int32')]\n",
    "    y_test = y_test.T.reshape(n_class, len(Y_test))\n",
    "    x_train = x_train.T.reshape(784, len(x_train))\n",
    "    x_test = x_test.T.reshape(784, len(x_test))\n",
    "    return x_train,y_train,x_test,y_test\n",
    "\n",
    "x_train,y_train,x_test,y_test=preprocessing()\n"
   ]
  },
  {
   "cell_type": "markdown",
   "metadata": {},
   "source": [
    "# Loss and activation function"
   ]
  },
  {
   "cell_type": "code",
   "execution_count": 4,
   "metadata": {},
   "outputs": [],
   "source": [
    "def compute_multiclass_loss(Y, predicted):\n",
    "    L_sum = np.sum(np.multiply(Y, np.log(predicted)))\n",
    "    m = Y.shape[1]\n",
    "    L = -(1/m) * L_sum\n",
    "    return L\n",
    "\n",
    "def dtanh(x):\n",
    "    return 1-(np.tanh(x)**2)\n",
    "def sigmoid(x):\n",
    "    return 1 / (1 + np.exp(-x))\n",
    "\n",
    "def deriv_sigmoid(x):\n",
    "    fx = sigmoid(x)\n",
    "    return fx * (1 - fx)\n",
    "def relu(x):\n",
    "        return x * (x > 0)\n",
    "def drelu(x):\n",
    "     return 1. * (x > 0)\n",
    "\n"
   ]
  },
  {
   "cell_type": "markdown",
   "metadata": {},
   "source": [
    "# Training model"
   ]
  },
  {
   "cell_type": "code",
   "execution_count": 26,
   "metadata": {},
   "outputs": [],
   "source": [
    "def training_model(x_train,y_train,n_iteration,lr):\n",
    "    n_x = x_train.shape[0]\n",
    "    n_h = 200\n",
    "    m = len(x_train)\n",
    "    learning_rate = lr\n",
    "\n",
    "    W1 = np.random.randn(n_h, n_x)\n",
    "    b1 = np.zeros((n_h, 1))\n",
    "    W2 = np.random.randn(n_class, n_h)\n",
    "    b2 = np.zeros((n_class, 1))\n",
    "\n",
    "    X = x_train\n",
    "    Y = y_train\n",
    "    n_iter=n_iteration\n",
    "    costarr=np.empty([n_iter, 1])\n",
    "    iterations=list(np.arange(1,n_iter+1))\n",
    "\n",
    "    for i in range(n_iter):\n",
    "\n",
    "        Z1 = np.matmul(W1,X) + b1\n",
    "        A1 = sigmoid(Z1)\n",
    "        #A1=np.tanh(Z1)\n",
    "        #A1=relu(Z1)\n",
    "        Z2 = np.matmul(W2,A1) + b2\n",
    "        A2 = np.exp(Z2) / np.sum(np.exp(Z2), axis=0)\n",
    "\n",
    "        cost = compute_multiclass_loss(Y, A2)\n",
    "        costarr[i]=cost\n",
    "        if (i % 10 == 0):\n",
    "            print(\"Epoch\", i, \"cost: \", cost)\n",
    "\n",
    "        dZ2 = A2-Y\n",
    "        dW2 = (1./m) * np.matmul(dZ2, A1.T)\n",
    "        db2 = (1./m) * np.sum(dZ2, axis=1, keepdims=True)\n",
    "\n",
    "        dA1 = np.matmul(W2.T, dZ2)\n",
    "        dZ1 = dA1 * sigmoid(Z1) * (1 - sigmoid(Z1))\n",
    "        #dZ1=dtanh(Z1)\n",
    "        #dZ1=drelu(Z1)\n",
    "        dW1 = (1./m) * np.matmul(dZ1, X.T)\n",
    "        db1 = (1./m) * np.sum(dZ1, axis=1, keepdims=True)\n",
    "\n",
    "        W2 = W2 - learning_rate * dW2\n",
    "        b2 = b2 - learning_rate * db2\n",
    "        W1 = W1 - learning_rate * dW1\n",
    "        b1 = b1 - learning_rate * db1\n",
    "    return W1,b1,W2,b2,costarr,iterations"
   ]
  },
  {
   "cell_type": "markdown",
   "metadata": {},
   "source": [
    "# Plot"
   ]
  },
  {
   "cell_type": "code",
   "execution_count": 27,
   "metadata": {},
   "outputs": [
    {
     "name": "stdout",
     "output_type": "stream",
     "text": [
      "Epoch 0 cost:  13.308166891504724\n",
      "Epoch 10 cost:  8.597176441722873\n",
      "Epoch 20 cost:  3.3691401032824624\n",
      "Epoch 30 cost:  1.2772848448372176\n",
      "Epoch 40 cost:  1.069825967265562\n",
      "Epoch 50 cost:  1.7230060593325154\n",
      "Epoch 60 cost:  0.8618380699219229\n",
      "Epoch 70 cost:  0.6671610392557318\n",
      "Epoch 80 cost:  0.6481240483125309\n",
      "Epoch 90 cost:  2.919343107332916\n",
      "Epoch 100 cost:  0.6557414133385208\n",
      "Epoch 110 cost:  0.5185284682710358\n",
      "Epoch 120 cost:  0.46094708104729787\n",
      "Epoch 130 cost:  0.4378446672327204\n",
      "Epoch 140 cost:  1.2132722046526927\n",
      "Epoch 150 cost:  1.055692201879765\n",
      "Epoch 160 cost:  0.3967872643670815\n",
      "Epoch 170 cost:  0.35617073284677386\n",
      "Epoch 180 cost:  0.3286513615193763\n",
      "Epoch 190 cost:  0.34553911809345544\n",
      "Epoch 200 cost:  0.5993747768295421\n",
      "Epoch 210 cost:  0.47651291060100714\n",
      "Epoch 220 cost:  1.0499518526165745\n",
      "Epoch 230 cost:  0.2979225090957005\n",
      "Epoch 240 cost:  0.25953507964312234\n",
      "Epoch 250 cost:  0.24168380254513347\n",
      "Epoch 260 cost:  0.22823653693592827\n",
      "Epoch 270 cost:  0.23245264401829013\n",
      "Epoch 280 cost:  1.770774395058813\n",
      "Epoch 290 cost:  0.252560020503396\n",
      "Epoch 300 cost:  0.21624974590098692\n",
      "Epoch 310 cost:  0.20179743877247266\n",
      "Epoch 320 cost:  0.20094448931005962\n",
      "Epoch 330 cost:  0.3661135255569074\n",
      "Epoch 340 cost:  1.2346319935570167\n",
      "Epoch 350 cost:  0.2584944090833123\n",
      "Epoch 360 cost:  0.21045687500385837\n",
      "Epoch 370 cost:  0.18960159245970495\n",
      "Epoch 380 cost:  0.17600048018553097\n",
      "Epoch 390 cost:  0.1657217628287751\n",
      "Epoch 400 cost:  0.1573164306467256\n",
      "Epoch 410 cost:  0.15014942926541933\n",
      "Epoch 420 cost:  0.14379595646350032\n",
      "Epoch 430 cost:  0.13807698148577852\n",
      "Epoch 440 cost:  0.1329650300277785\n",
      "Epoch 450 cost:  0.12834268724532052\n",
      "Epoch 460 cost:  0.12410291529168453\n",
      "Epoch 470 cost:  0.12018756178789357\n",
      "Epoch 480 cost:  0.11651719344993788\n",
      "Epoch 490 cost:  0.11304435854228394\n",
      "Epoch 500 cost:  0.10985406861321649\n",
      "Epoch 510 cost:  0.10685325174268741\n",
      "Epoch 520 cost:  0.1040020492995559\n",
      "Epoch 530 cost:  0.10157856384407729\n",
      "Epoch 540 cost:  0.11468549035604107\n",
      "Epoch 550 cost:  3.0506048125297016\n",
      "Epoch 560 cost:  0.1737981238841999\n",
      "Epoch 570 cost:  0.13116712923320048\n",
      "Epoch 580 cost:  0.11529274323788216\n",
      "Epoch 590 cost:  0.10644772319172376\n",
      "Epoch 600 cost:  0.1004422993927121\n",
      "Epoch 610 cost:  0.09585095862894229\n",
      "Epoch 620 cost:  0.09214140085539445\n",
      "Epoch 630 cost:  0.08898189611513974\n",
      "Epoch 640 cost:  0.08624185284190003\n",
      "Epoch 650 cost:  0.08379937407668722\n",
      "Epoch 660 cost:  0.08156456162494359\n",
      "Epoch 670 cost:  0.07948975244210531\n",
      "Epoch 680 cost:  0.07755027788764467\n",
      "Epoch 690 cost:  0.075746181697118\n",
      "Epoch 700 cost:  0.0740352386240567\n",
      "Epoch 710 cost:  0.0724092822848956\n",
      "Epoch 720 cost:  0.07086821961689622\n",
      "Epoch 730 cost:  0.06938956290551924\n",
      "Epoch 740 cost:  0.06796484616084554\n",
      "Epoch 750 cost:  0.06661573313695612\n",
      "Epoch 760 cost:  0.06532697931574459\n",
      "Epoch 770 cost:  0.06409110554353552\n",
      "Epoch 780 cost:  0.06290382269794918\n",
      "Epoch 790 cost:  0.06175612458500657\n",
      "Epoch 800 cost:  0.06065074733266907\n",
      "Epoch 810 cost:  0.059555355484670607\n",
      "Epoch 820 cost:  0.05849297555258723\n",
      "Epoch 830 cost:  0.05748090964011936\n",
      "Epoch 840 cost:  0.05650078450027947\n",
      "Epoch 850 cost:  0.05555263388059212\n",
      "Epoch 860 cost:  0.05464126874358848\n",
      "Epoch 870 cost:  0.05376217739405017\n",
      "Epoch 880 cost:  0.05291376681731335\n",
      "Epoch 890 cost:  0.052074620914850565\n",
      "Epoch 900 cost:  0.05127849053560773\n",
      "Epoch 910 cost:  0.05051864210975911\n",
      "Epoch 920 cost:  0.04978146068727948\n",
      "Epoch 930 cost:  0.049063730476445536\n",
      "Epoch 940 cost:  0.04836127331642807\n",
      "Epoch 950 cost:  0.047661438558582306\n",
      "Epoch 960 cost:  0.046985022691842834\n",
      "Epoch 970 cost:  0.04633359358651933\n",
      "Epoch 980 cost:  0.04570121805924763\n",
      "Epoch 990 cost:  0.04508315232769276\n"
     ]
    },
    {
     "data": {
      "image/png": "[encoded data removed]",
      "text/plain": [
       "<Figure size 432x288 with 1 Axes>"
      ]
     },
     "metadata": {
      "needs_background": "light"
     },
     "output_type": "display_data"
    }
   ],
   "source": [
    "W1,b1,W2,b2,costarr,iterations=training_model(x_train,y_train,1000,0.1)\n",
    "def plotcost(costarr,iterations):\n",
    "    plt.xlabel(\"iterations\")\n",
    "    plt.ylabel(\"costarr\")\n",
    "    plt.plot(iterations,costarr)\n",
    "    plt.show()\n",
    "plotcost(costarr,iterations)\n"
   ]
  },
  {
   "cell_type": "markdown",
   "metadata": {},
   "source": [
    "# Train Prediction"
   ]
  },
  {
   "cell_type": "code",
   "execution_count": 28,
   "metadata": {},
   "outputs": [
    {
     "name": "stdout",
     "output_type": "stream",
     "text": [
      "0.99335\n"
     ]
    }
   ],
   "source": [
    "def train_prediction(W1,b1,W2,b2,x_train,y_train):\n",
    "    Z1_t = np.matmul(W1, x_train) + b1\n",
    "    A1_t = sigmoid(Z1_t)\n",
    "    Z2_t = np.matmul(W2, A1_t) + b2\n",
    "    A2_t = np.exp(Z2_t) / np.sum(np.exp(Z2_t), axis=0)\n",
    "\n",
    "    predictions = np.argmax(A2_t, axis=0)\n",
    "    labels = np.argmax(y_train, axis=0)\n",
    "    accuracy = accuracy_score(labels,predictions)\n",
    "    return accuracy\n",
    "print(train_prediction(W1,b1,W2,b2,x_train,y_train))\n",
    "    "
   ]
  },
  {
   "cell_type": "markdown",
   "metadata": {},
   "source": [
    "# Test Prediction"
   ]
  },
  {
   "cell_type": "code",
   "execution_count": 29,
   "metadata": {},
   "outputs": [],
   "source": [
    "def test_prediction(W1,b1,W2,b2,x_test,y_test):\n",
    "    Z1_t = np.matmul(W1, x_test) + b1\n",
    "    A1_t = sigmoid(Z1_t)\n",
    "    Z2_t = np.matmul(W2, A1_t) + b2\n",
    "    A2_t = np.exp(Z2_t) / np.sum(np.exp(Z2_t), axis=0)\n",
    "\n",
    "    predictions = np.argmax(A2_t, axis=0)\n",
    "    labels = np.argmax(y_test, axis=0)\n",
    "    accuracy = accuracy_score(labels,predictions)\n",
    "    confusion_matrix_val=confusion_matrix(predictions, labels)\n",
    "    classification_report_val=classification_report(predictions, labels)\n",
    "    return accuracy,confusion_matrix_val,classification_report_val\n"
   ]
  },
  {
   "cell_type": "code",
   "execution_count": 32,
   "metadata": {},
   "outputs": [
    {
     "name": "stdout",
     "output_type": "stream",
     "text": [
      "Test accuracy: 0.9093\n",
      "confusion_matrix: [[ 940    0    8    5    2   11   10    1    9    8]\n",
      " [   0 1109    8    2    0    2    4    4    6    2]\n",
      " [   6    5  929   21   13    5   12   25   10    3]\n",
      " [   3    3   22  913    5   39    3   14   32   13]\n",
      " [   0    1   10    3  901    8    8   11   14   36]\n",
      " [  12    1    4   25    5  773   20    3   34   11]\n",
      " [  14    4   11    2    7    9  892    0    7    2]\n",
      " [   2    3   16    9    6    5    4  916    8   36]\n",
      " [   2    9   20   22   11   32    4    9  835   13]\n",
      " [   1    0    4    8   32    8    1   45   19  885]]\n",
      "classification_report:               precision    recall  f1-score   support\n",
      "\n",
      "           0       0.96      0.95      0.95       994\n",
      "           1       0.98      0.98      0.98      1137\n",
      "           2       0.90      0.90      0.90      1029\n",
      "           3       0.90      0.87      0.89      1047\n",
      "           4       0.92      0.91      0.91       992\n",
      "           5       0.87      0.87      0.87       888\n",
      "           6       0.93      0.94      0.94       948\n",
      "           7       0.89      0.91      0.90      1005\n",
      "           8       0.86      0.87      0.86       957\n",
      "           9       0.88      0.88      0.88      1003\n",
      "\n",
      "   micro avg       0.91      0.91      0.91     10000\n",
      "   macro avg       0.91      0.91      0.91     10000\n",
      "weighted avg       0.91      0.91      0.91     10000\n",
      "\n"
     ]
    }
   ],
   "source": [
    "accuracy,confusion_matrix,classification_report=test_prediction(W1,b1,W2,b2,x_test,y_test)\n",
    "print(\"Test accuracy:\",accuracy)\n",
    "print(\"confusion_matrix:\",confusion_matrix)\n",
    "print(\"classification_report:\",classification_report)"
   ]
  }
 ],
 "metadata": {
  "kernelspec": {
   "display_name": "Python 3",
   "language": "python",
   "name": "python3"
  },
  "language_info": {
   "codemirror_mode": {
    "name": "ipython",
    "version": 3
   },
   "file_extension": ".py",
   "mimetype": "text/x-python",
   "name": "python",
   "nbconvert_exporter": "python",
   "pygments_lexer": "ipython3",
   "version": "3.7.3"
  }
 },
 "nbformat": 4,
 "nbformat_minor": 2
}
